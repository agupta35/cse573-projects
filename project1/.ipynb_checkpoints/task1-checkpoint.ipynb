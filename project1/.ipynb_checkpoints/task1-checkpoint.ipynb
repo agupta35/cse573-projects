{
 "cells": [
  {
   "cell_type": "code",
   "execution_count": 5,
   "metadata": {
    "ExecuteTime": {
     "end_time": "2019-02-19T23:40:17.418139Z",
     "start_time": "2019-02-19T23:40:17.303529Z"
    }
   },
   "outputs": [],
   "source": [
    "\"\"\"\n",
    "Edge Detection\n",
    "(Due date: March 6th, 11: 59 P.M.)\n",
    "\n",
    "The goal of this task is to experiment with two commonly used edge detection operator, i.e., Prewitt operator and Sobel operator,\n",
    "and familiarize you with 'tricks', e.g., padding, commonly used by computer vision 'researchers'.\n",
    "\n",
    "Please complete all the functions that are labelled with '# TODO'. Hints or steps are provided to make your lives easier.\n",
    "Whem implementing the functions, comment the lines 'raise NotImplementedError' instead of deleting them. As we have\n",
    "written lots of utility functions for you, you only need to write about 30 lines of code. The functions defined in utils.py\n",
    "are building blocks you could use when implementing the functions labelled with 'TODO'.\n",
    "\n",
    "I strongly suggest you to read the function zero_pad that is defined in utils.py. It is quite important!\n",
    "\n",
    "Do NOT modify the code provided.\n",
    "Do NOT use any API provided by opencv (cv2) and numpy (np) in your code.\n",
    "Do NOT import any library (function, module, etc.).\n",
    "\"\"\"\n",
    "\n",
    "import argparse\n",
    "import copy\n",
    "import os\n",
    "\n",
    "import cv2\n",
    "import numpy as np\n",
    "\n",
    "import utils\n",
    "\n",
    "# Prewitt operator\n",
    "prewitt_x = [[1, 0, -1]] * 3\n",
    "prewitt_y = [[1] * 3, [0] * 3, [-1] * 3]\n",
    "\n",
    "# Sobel operator\n",
    "sobel_x = [[1, 0, -1], [2, 0, -2], [1, 0, -1]]\n",
    "sobel_y = [[-1, -2, -1], [0, 0, 0], [1, 2, 1]]"
   ]
  },
  {
   "cell_type": "code",
   "execution_count": 22,
   "metadata": {
    "ExecuteTime": {
     "end_time": "2019-02-19T23:42:36.707667Z",
     "start_time": "2019-02-19T23:42:36.689886Z"
    }
   },
   "outputs": [],
   "source": [
    "def parse_args():\n",
    "    parser = argparse.ArgumentParser(description=\"cse 473/573 project 1.\")\n",
    "    parser.add_argument(\n",
    "        \"--img_path\", type=str, default=\"\",\n",
    "        help=\"path to the image used for edge detection\")\n",
    "    parser.add_argument(\n",
    "        \"--kernel\", type=str, default=\"sobel\",\n",
    "        choices=[\"prewitt\", \"sobel\", \"Prewitt\", \"Sobel\"],\n",
    "        help=\"type of edge detector used for edge detection\")\n",
    "    parser.add_argument(\n",
    "        \"--result_saving_directory\", dest=\"rs_directory\", type=str, default=\"./results/\",\n",
    "        help=\"directory to which results are saved (do not change this arg)\")\n",
    "    args = parser.parse_args()\n",
    "    return args\n",
    "\n",
    "\n",
    "def read_image(img_path, show=True):\n",
    "    \"\"\"Reads an image into memory as a grayscale array.\n",
    "    \"\"\"\n",
    "    img = cv2.imread(img_path, cv2.IMREAD_GRAYSCALE)\n",
    "    if not img.dtype == np.uint8:\n",
    "        pass\n",
    "\n",
    "    if show:\n",
    "        show_image(img)\n",
    "\n",
    "    img = [list(row) for row in img]\n",
    "    return img\n",
    "\n",
    "def show_image(img, delay=1000):\n",
    "    cv2.namedWindow('image', cv2.WINDOW_AUTOSIZE)\n",
    "    cv2.imshow('image', img)\n",
    "    cv2.waitKey(delay)\n",
    "    cv2.destroyAllWindows()\n",
    "\n",
    "def write_image(img, img_saving_path):\n",
    "    if isinstance(img, list):\n",
    "        img = np.asarray(img, dtype=np.uint8)\n",
    "    elif isinstance(img, np.ndarray):\n",
    "        if not img.dtype == np.uint8:\n",
    "            assert np.max(img) <= 1, \"Maximum pixel value {:.3f} is greater than 1\".format(np.max(img))\n",
    "            img = (255 * img).astype(np.uint8)\n",
    "    else:\n",
    "        raise TypeError(\"img is neither a list nor a ndarray.\")\n",
    "\n",
    "    cv2.imwrite(img_saving_path, img)\n",
    "\n",
    "def convolve2d(img, kernel):\n",
    "    \"\"\"Convolves a given image and a given kernel.\n",
    "\n",
    "    Steps:\n",
    "        (1) flips the either the img or the kernel.\n",
    "        (2) pads the img or the flipped img.\n",
    "            this step handles pixels along the border of the img,\n",
    "            and makes sure that the output img is of the same size as the input image.\n",
    "        (3) applies the flipped kernel to the image or the kernel to the flipped image,\n",
    "            using nested for loop.\n",
    "\n",
    "    Args:\n",
    "        img: nested list (int), image.\n",
    "        kernel: nested list (int), kernel.\n",
    "\n",
    "    Returns:\n",
    "        img_conv: nested list (int), image.\n",
    "    \"\"\"\n",
    "    # TODO: implement this function.\n",
    "    \n",
    "    # Image dimensions\n",
    "    m, n = len(img), len(img[0])\n",
    "\n",
    "    # Filter dimensions\n",
    "    k, l = len(kernel), len(kernel[0])\n",
    "    \n",
    "    flipped_filter = utils.flip2d(kernel)\n",
    "    img_padded = utils.zero_pad(img, k - 1, l - 1)\n",
    "\n",
    "    img_conv = [[0 for _ in range(n)] for _ in range(m)]\n",
    "    \n",
    "\n",
    "    for i in range(m):\n",
    "        for j in range(n):\n",
    "            img_ = utils.crop(img_padded, i, i + k, j, j + l)\n",
    "            mul = utils.elementwise_mul(img_, flipped_filter)\n",
    "            img_conv[i][j] = sum([sum(x) for x in mul])\n",
    "\n",
    "    return img_conv\n",
    "\n",
    "\n",
    "def normalize(img):\n",
    "    \"\"\"Normalizes a given image.\n",
    "\n",
    "    Hints:\n",
    "        Normalize a given image using the following equation:\n",
    "\n",
    "        normalized_img = frac{img - min(img)}{max(img) - min(img)},\n",
    "\n",
    "        so that the maximum pixel value is 255 and the minimum pixel value is 0.\n",
    "\n",
    "    Args:\n",
    "        img: nested list (int), image.\n",
    "\n",
    "    Returns:\n",
    "        normalized_img: nested list (int), normalized image.\n",
    "    \"\"\"\n",
    "    # TODO: implement this function.\n",
    "    img_max = max((max(x) for x in img))\n",
    "    img_min = min((min(x) for x in img))\n",
    "\n",
    "    for i in range(len(img)):\n",
    "        for j in range(len(img[0])):\n",
    "            img[i][j] = (img[i][j] - img_min) * 255. / (img_max - img_min)\n",
    "            if img[i][j] <= 0.:\n",
    "                img[i][j] = 0.\n",
    "    return img\n",
    "\n",
    "\n",
    "def detect_edges(img, kernel, norm=True):\n",
    "    \"\"\"Detects edges using a given kernel.\n",
    "\n",
    "    Args:\n",
    "        img: nested list (int), image.\n",
    "        kernel: nested list (int), kernel used to detect edges.\n",
    "        norm (bool): whether to normalize the image or not.\n",
    "\n",
    "    Returns:\n",
    "        img_edge: nested list (int), image containing detected edges.\n",
    "    \"\"\"\n",
    "    # TODO: detect edges using convolve2d and normalize the image containing detected edges using normalize.\n",
    "    img_edges = convolve2d(img, kernel)\n",
    "    \n",
    "    if norm:\n",
    "        img_edges = normalize(img_edges)\n",
    "    \n",
    "    return img_edges\n",
    "\n",
    "\n",
    "def edge_magnitude(edge_x, edge_y):\n",
    "    \"\"\"Calculate magnitude of edges by combining edges along two orthogonal directions.\n",
    "\n",
    "    Hints:\n",
    "        Combine edges along two orthogonal directions using the following equation:\n",
    "\n",
    "        edge_mag = sqrt(edge_x ** 2 + edge_y ** 2).\n",
    "\n",
    "        Make sure that you normalize the edge_mag, so that the maximum pixel value is 1.\n",
    "\n",
    "    Args:\n",
    "        edge_x: nested list (int), image containing detected edges along one direction.\n",
    "        edge_y: nested list (int), image containing detected edges along another direction.\n",
    "\n",
    "    Returns:\n",
    "        edge_mag: nested list (int), image containing magnitude of detected edges.\n",
    "    \"\"\"\n",
    "    # TODO: implement this function.\n",
    "    edge_x = utils.elementwise_mul(edge_x, edge_x)\n",
    "    edge_y = utils.elementwise_mul(edge_y, edge_y)\n",
    "\n",
    "    edge_mag = utils.elementwise_add(edge_x, edge_y)\n",
    "    edge_mag = np.sqrt(edge_mag)\n",
    "\n",
    "    return normalize(edge_mag)\n",
    "\n",
    "\n",
    "def main():\n",
    "    args = parse_args()\n",
    "\n",
    "    img = read_image(args.img_path)\n",
    "\n",
    "    if args.kernel in [\"prewitt\", \"Prewitt\"]:\n",
    "        kernel_x = prewitt_x\n",
    "        kernel_y = prewitt_y\n",
    "    elif args.kernel in [\"sobel\", \"Sobel\"]:\n",
    "        kernel_x = sobel_x\n",
    "        kernel_y = sobel_y\n",
    "    else:\n",
    "        raise ValueError(\"Kernel type not recognized.\")\n",
    "\n",
    "    if not os.path.exists(args.rs_directory):\n",
    "        os.makedirs(args.rs_directory)\n",
    "\n",
    "    img_edge_x = detect_edges(img, kernel_x, False)\n",
    "    img_edge_x = np.asarray(img_edge_x)\n",
    "    write_image(normalize(img_edge_x), os.path.join(args.rs_directory, \"{}_edge_x.jpg\".format(args.kernel.lower())))\n",
    "\n",
    "    img_edge_y = detect_edges(img, kernel_y, False)\n",
    "    img_edge_y = np.asarray(img_edge_y)\n",
    "    write_image(normalize(img_edge_y), os.path.join(args.rs_directory, \"{}_edge_y.jpg\".format(args.kernel.lower())))\n",
    "\n",
    "    img_edges = edge_magnitude(img_edge_x, img_edge_y)\n",
    "    write_image(img_edges, os.path.join(args.rs_directory, \"{}_edge_mag.jpg\".format(args.kernel.lower())))\n",
    "\n"
   ]
  },
  {
   "cell_type": "code",
   "execution_count": 23,
   "metadata": {
    "ExecuteTime": {
     "end_time": "2019-02-19T23:42:44.062241Z",
     "start_time": "2019-02-19T23:42:36.884213Z"
    }
   },
   "outputs": [],
   "source": [
    "img = read_image(\"data/proj1-task1.jpg\")\n",
    "\n",
    "img_edge_x = detect_edges(img, sobel_x, False)\n",
    "img_edge_x = np.asarray(img_edge_x)\n",
    "\n",
    "img_edge_y = detect_edges(img, sobel_x, False)\n",
    "img_edge_y = np.asarray(img_edge_y)\n",
    "\n",
    "img_edges = edge_magnitude(img_edge_x, img_edge_y)\n"
   ]
  },
  {
   "cell_type": "code",
   "execution_count": 24,
   "metadata": {
    "ExecuteTime": {
     "end_time": "2019-02-19T23:42:44.067220Z",
     "start_time": "2019-02-19T23:42:44.064324Z"
    }
   },
   "outputs": [],
   "source": [
    "import matplotlib.pyplot as plt"
   ]
  },
  {
   "cell_type": "code",
   "execution_count": 25,
   "metadata": {
    "ExecuteTime": {
     "end_time": "2019-02-19T23:42:44.072180Z",
     "start_time": "2019-02-19T23:42:44.069293Z"
    }
   },
   "outputs": [],
   "source": [
    "z = img_edges"
   ]
  },
  {
   "cell_type": "code",
   "execution_count": 28,
   "metadata": {
    "ExecuteTime": {
     "end_time": "2019-02-20T00:04:16.492316Z",
     "start_time": "2019-02-20T00:04:16.487314Z"
    }
   },
   "outputs": [
    {
     "data": {
      "text/plain": [
       "[[-1, -4, -8], [-4, -13, -20], [-6, -18, -24]]"
      ]
     },
     "execution_count": 28,
     "metadata": {},
     "output_type": "execute_result"
    }
   ],
   "source": [
    "convolve2d([[1, 2, 3], [4, 5, 6], [7, 8, 9]], sobel_y)"
   ]
  },
  {
   "cell_type": "code",
   "execution_count": null,
   "metadata": {},
   "outputs": [],
   "source": []
  },
  {
   "cell_type": "code",
   "execution_count": null,
   "metadata": {},
   "outputs": [],
   "source": []
  }
 ],
 "metadata": {
  "kernelspec": {
   "display_name": "Python 3",
   "language": "python",
   "name": "python3"
  },
  "language_info": {
   "codemirror_mode": {
    "name": "ipython",
    "version": 3
   },
   "file_extension": ".py",
   "mimetype": "text/x-python",
   "name": "python",
   "nbconvert_exporter": "python",
   "pygments_lexer": "ipython3",
   "version": "3.6.5"
  }
 },
 "nbformat": 4,
 "nbformat_minor": 2
}
